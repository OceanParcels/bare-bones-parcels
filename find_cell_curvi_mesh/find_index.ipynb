{
 "cells": [
  {
   "cell_type": "markdown",
   "metadata": {},
   "source": [
    "# Finding particle location using rtree in Parcels\n",
    "\n",
    "This notebook uses the pyindex library from fbriol to find efficiently in which mesh cell a particle is.\n",
    "\n",
    "It is based on this documentation:\n",
    "https://gist.github.com/fbriol/026f9cbe38a60ecceeefa8fe899368ca\n",
    "\n",
    "While pyindex code is very fast, we lose here most of the efficiency by looping sequentially over the particles.\n",
    "\n",
    "This notebook shows which features are still missing (or we don't know about it?) in pyindex to be directly used by Parcels: to use the structured mesh topology.\n",
    "\n",
    "This goal is achieved by running the `find_cell` function defined below.\n"
   ]
  },
  {
   "cell_type": "code",
   "execution_count": 1,
   "metadata": {},
   "outputs": [],
   "source": [
    "import numpy as np\n",
    "import xarray as xr\n",
    "import pyindex.core as core\n",
    "import time"
   ]
  },
  {
   "cell_type": "code",
   "execution_count": 2,
   "metadata": {},
   "outputs": [],
   "source": [
    "# Loading NEMO ORCA0083 data (1/12 deg resolution)\n",
    "\n",
    "data_path = '/Users/delandmeter/data/NEMO-MEDUSA/ORCA0083-N006/'\n",
    "mesh_mask = data_path + 'domain/coordinates.nc'\n",
    "dataset = xr.open_dataset(mesh_mask, decode_times=False)"
   ]
  },
  {
   "cell_type": "code",
   "execution_count": 3,
   "metadata": {},
   "outputs": [
    {
     "name": "stdout",
     "output_type": "stream",
     "text": [
      "3059 4322\n"
     ]
    }
   ],
   "source": [
    "glon = np.array(dataset.glamf).squeeze()\n",
    "glat = np.array(dataset.gphif).squeeze()\n",
    "\n",
    "ndim, mdim = glon.shape\n",
    "print(ndim,mdim)"
   ]
  },
  {
   "cell_type": "code",
   "execution_count": 4,
   "metadata": {},
   "outputs": [],
   "source": [
    "system = core.geodetic.System()\n",
    "tree = core.geodetic.RTree()"
   ]
  },
  {
   "cell_type": "code",
   "execution_count": 5,
   "metadata": {},
   "outputs": [],
   "source": [
    "tree.packing(np.asarray((glon.flatten(), glat.flatten())).T)"
   ]
  },
  {
   "cell_type": "code",
   "execution_count": 6,
   "metadata": {},
   "outputs": [],
   "source": [
    "# Testing the algorithm\n",
    "\n",
    "lon = 74.\n",
    "lat = 89.\n",
    "\n",
    "distance, index = tree.query([[lon, lat]], k=4, within=True)\n",
    "xi = [0] * len(index[0])\n",
    "yi = [0] * len(index[0])\n",
    "for i, ind in enumerate(index[0]):\n",
    "    yi[i] = int(int(ind) / mdim)\n",
    "    xi[i] = int(ind) % mdim\n",
    "    \n",
    "assert np.allclose([lon, lat], [glon[yi[0], xi[0]], glat[yi[0], xi[0]]], atol=1/12.)"
   ]
  },
  {
   "cell_type": "code",
   "execution_count": 7,
   "metadata": {},
   "outputs": [],
   "source": [
    "def interpolate_lonlat(glon, glat, lon, lat, xi, yi, xsi, eta):\n",
    "    '''bi-linear interpolation within cell [j:j+2, i:i+2] as a function of the relative coordinates\n",
    "       Here we simply interpolate the lon, lat coordinates, retrieving original coordinates\n",
    "    '''\n",
    "    \n",
    "    phi = [(1-xsi)*(1-eta), xsi*(1-eta), xsi*eta, (1-xsi)*eta]\n",
    "    px = np.array([glon[yi, xi], glon[yi, xi+1], glon[yi+1, xi+1], glon[yi+1, xi]])\n",
    "    px = np.where(px[:] - lon > 180, px-360, px)\n",
    "    px = np.where(px[:] - lon <-180, px+360, px)\n",
    "    py = np.array([glat[yi, xi], glat[yi, xi+1], glat[yi+1, xi+1], glat[yi+1, xi]])\n",
    "    lon_test = np.dot(phi, px)\n",
    "    lat_test = np.dot(phi, py)\n",
    "    assert np.allclose([lon_test, lat_test], [lon, lat])"
   ]
  },
  {
   "cell_type": "code",
   "execution_count": 8,
   "metadata": {},
   "outputs": [],
   "source": [
    "def get_relative_coordinates(glon, glat, lon, lat, xi, yi):\n",
    "    '''returns relative coordinates xsi, eta\n",
    "       that are the coordinates of the (lon, lat) point remapped into a square cell [0,1] x [0,1]\n",
    "    '''\n",
    "    invA = np.array([[1, 0, 0, 0],\n",
    "                     [-1, 1, 0, 0],\n",
    "                     [-1, 0, 0, 1],\n",
    "                     [1, -1, 1, -1]])\n",
    "    px = np.array([glon[yi, xi], glon[yi, xi+1], glon[yi+1, xi+1], glon[yi+1, xi]])\n",
    "    px = np.where(px[:] - lon > 180, px-360, px)\n",
    "    px = np.where(px[:] - lon <-180, px+360, px)\n",
    "    py = np.array([glat[yi, xi], glat[yi, xi+1], glat[yi+1, xi+1], glat[yi+1, xi]])\n",
    "    a = np.dot(invA, px)\n",
    "    b = np.dot(invA, py)\n",
    "    \n",
    "    aa = a[3]*b[2] - a[2]*b[3]\n",
    "    bb = a[3]*b[0] - a[0]*b[3] + a[1]*b[2] - a[2]*b[1] + lon*b[3] - lat*a[3]\n",
    "    cc = a[1]*b[0] - a[0]*b[1] + lon*b[1] - lat*a[1]\n",
    "    if abs(aa) < 1e-12:  # Rectilinear cell, or quasi\n",
    "        eta = -cc / bb\n",
    "    else:\n",
    "        det2 = bb*bb-4*aa*cc\n",
    "        if det2 > 0:  # so, if det is nan we keep the xsi, eta from previous iter\n",
    "            det = np.sqrt(det2)\n",
    "            eta = (-bb+det)/(2*aa)\n",
    "        else:  # should not happen, apart from singularities\n",
    "            eta = 1e6\n",
    "    if abs(a[1]+a[3]*eta) < 1e-12:  # this happens when recti cell rotated of 90deg\n",
    "        xsi = ((lat-py[0])/(py[1]-py[0]) + (lat-py[3])/(py[2]-py[3])) * .5\n",
    "    else:\n",
    "        xsi = (lon-a[0]-a[2]*eta) / (a[1]+a[3]*eta)\n",
    "    return(xsi, eta)"
   ]
  },
  {
   "cell_type": "code",
   "execution_count": 9,
   "metadata": {},
   "outputs": [],
   "source": [
    "def find_cell(lon, lat, k=8):\n",
    "    if k > 2000:\n",
    "        print('find_cell should request k=2000 nearest neighbours in the rtree query')\n",
    "        raise Exception\n",
    "    distance, index = tree.query([[lon, lat]], k=k)\n",
    "      \n",
    "    yi = (index[0]/mdim).astype(np.int)\n",
    "    xi = (index[0] % mdim).astype(np.int)\n",
    "    \n",
    "    xi_final = -1\n",
    "    yi_final = -1\n",
    "    for i in range(len(xi)):\n",
    "        if yi[i] == ndim-1 or xi[i] == mdim-1 :\n",
    "            continue\n",
    "        (xsi, eta) = get_relative_coordinates(glon, glat, lon, lat, xi[i], yi[i])\n",
    "        if xsi >= 0 and xsi <= 1 and eta >=0 and eta <= 1:\n",
    "            xi_final = xi[i]\n",
    "            yi_final = yi[i]\n",
    "            break\n",
    "    if xi_final == -1:\n",
    "        find_cell(lon, lat, k=2*k)\n",
    "        return\n",
    "    interpolate_lonlat(glon, glat, lon, lat, xi_final, yi_final, xsi, eta)"
   ]
  },
  {
   "cell_type": "code",
   "execution_count": 10,
   "metadata": {},
   "outputs": [],
   "source": [
    "find_cell(-107.00708753636134, 65.7313690045531)"
   ]
  },
  {
   "cell_type": "code",
   "execution_count": 11,
   "metadata": {},
   "outputs": [
    {
     "name": "stdout",
     "output_type": "stream",
     "text": [
      "iter 0/100000\n",
      "iter 10000/100000\n",
      "iter 20000/100000\n",
      "iter 30000/100000\n",
      "iter 40000/100000\n",
      "iter 50000/100000\n",
      "iter 60000/100000\n",
      "iter 70000/100000\n",
      "iter 80000/100000\n",
      "iter 90000/100000\n",
      "CPU time 29.7793 s\n"
     ]
    }
   ],
   "source": [
    "def find_particles(n):\n",
    "    plon = np.random.uniform(-180.0,180.0, n)\n",
    "    plat = np.random.uniform(-70.0, 88.0, n)\n",
    "    for i, lon, lat in zip(range(len(plon)), plon, plat):\n",
    "        if i % (n/10) == 0:\n",
    "            print('iter %d/%d' % (i, n))\n",
    "        find_cell(lon, lat)\n",
    "    return(plon, plat)\n",
    "    \n",
    "# global globCount\n",
    "# globCount = 0\n",
    "tic = time.time()\n",
    "plon, plat = find_particles(100000)\n",
    "tac = time.time()\n",
    "\n",
    "print('CPU time %g s' % (tac-tic))"
   ]
  },
  {
   "cell_type": "code",
   "execution_count": null,
   "metadata": {},
   "outputs": [],
   "source": []
  }
 ],
 "metadata": {
  "kernelspec": {
   "display_name": "Python 3",
   "language": "python",
   "name": "python3"
  },
  "language_info": {
   "codemirror_mode": {
    "name": "ipython",
    "version": 3
   },
   "file_extension": ".py",
   "mimetype": "text/x-python",
   "name": "python",
   "nbconvert_exporter": "python",
   "pygments_lexer": "ipython3",
   "version": "3.7.3"
  }
 },
 "nbformat": 4,
 "nbformat_minor": 2
}
